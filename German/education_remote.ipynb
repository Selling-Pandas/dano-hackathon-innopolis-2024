{
 "cells": [
  {
   "cell_type": "code",
   "execution_count": 2,
   "metadata": {},
   "outputs": [],
   "source": [
    "import pandas as pd\n",
    "from scipy import stats"
   ]
  },
  {
   "cell_type": "code",
   "execution_count": 3,
   "metadata": {},
   "outputs": [
    {
     "name": "stdout",
     "output_type": "stream",
     "text": [
      "<class 'pandas.core.frame.DataFrame'>\n",
      "RangeIndex: 3869 entries, 0 to 3868\n",
      "Columns: 108 entries, Unnamed: 0 to vj72.2h\n",
      "dtypes: float64(3), int64(84), object(21)\n",
      "memory usage: 3.2+ MB\n"
     ]
    }
   ],
   "source": [
    "df = pd.read_csv('../df_extended_v2.csv')\n",
    "df.info()"
   ]
  },
  {
   "cell_type": "code",
   "execution_count": 4,
   "metadata": {},
   "outputs": [],
   "source": [
    "no_middle = df[df.education_level == 0]\n",
    "middle = df[df.education_level == 1]\n",
    "tech = df[df.education_level == 2]\n",
    "high = df[df.education_level == 3]\n"
   ]
  },
  {
   "cell_type": "markdown",
   "metadata": {},
   "source": [
    "Искл асперантуру и ординатуру тк в нашем датасете их мало и edu level == 4 нет"
   ]
  },
  {
   "cell_type": "markdown",
   "metadata": {},
   "source": [
    "'vj72.6h2', 'vj72.6h', 'vj72.5h4', 'vj72.5h3', 'vj72.5h2', 'vj72.5h', 'vj72.4h2', 'vj72.4h', 'vj72.3h2', 'vj72.3h', 'vj72.2h2', 'vj72.2h'"
   ]
  },
  {
   "cell_type": "code",
   "execution_count": 5,
   "metadata": {},
   "outputs": [
    {
     "name": "stderr",
     "output_type": "stream",
     "text": [
      "/var/folders/g7/fsqf0_dj0t91wd65112c268r0000gn/T/ipykernel_45353/2671501654.py:1: SettingWithCopyWarning: \n",
      "A value is trying to be set on a copy of a slice from a DataFrame.\n",
      "Try using .loc[row_indexer,col_indexer] = value instead\n",
      "\n",
      "See the caveats in the documentation: https://pandas.pydata.org/pandas-docs/stable/user_guide/indexing.html#returning-a-view-versus-a-copy\n",
      "  no_middle[\"is_remote\"] = (no_middle[\"vj72.2h2\"] == \"Нет\") | (\n"
     ]
    },
    {
     "data": {
      "text/plain": [
       "is_remote\n",
       "False    319\n",
       "True       2\n",
       "Name: count, dtype: int64"
      ]
     },
     "execution_count": 5,
     "metadata": {},
     "output_type": "execute_result"
    }
   ],
   "source": [
    "no_middle[\"is_remote\"] = (no_middle[\"vj72.2h2\"] == \"Нет\") | (\n",
    "    no_middle[\"vj72.2h\"] == \"Нет\"\n",
    ")\n",
    "no_middle.is_remote.value_counts()"
   ]
  },
  {
   "cell_type": "code",
   "execution_count": 6,
   "metadata": {},
   "outputs": [
    {
     "name": "stderr",
     "output_type": "stream",
     "text": [
      "/var/folders/g7/fsqf0_dj0t91wd65112c268r0000gn/T/ipykernel_45353/2775914171.py:1: SettingWithCopyWarning: \n",
      "A value is trying to be set on a copy of a slice from a DataFrame.\n",
      "Try using .loc[row_indexer,col_indexer] = value instead\n",
      "\n",
      "See the caveats in the documentation: https://pandas.pydata.org/pandas-docs/stable/user_guide/indexing.html#returning-a-view-versus-a-copy\n",
      "  middle[\"is_remote\"] = (middle[\"vj72.3h\"] == \"Нет\") | (\n"
     ]
    },
    {
     "data": {
      "text/plain": [
       "is_remote\n",
       "False    1095\n",
       "True        8\n",
       "Name: count, dtype: int64"
      ]
     },
     "execution_count": 6,
     "metadata": {},
     "output_type": "execute_result"
    }
   ],
   "source": [
    "middle[\"is_remote\"] = (middle[\"vj72.3h\"] == \"Нет\") | (\n",
    "    middle[\"vj72.3h2\"] == \"Нет\"\n",
    ")\n",
    "middle.is_remote.value_counts()"
   ]
  },
  {
   "cell_type": "code",
   "execution_count": 7,
   "metadata": {},
   "outputs": [
    {
     "name": "stderr",
     "output_type": "stream",
     "text": [
      "/var/folders/g7/fsqf0_dj0t91wd65112c268r0000gn/T/ipykernel_45353/3594806925.py:1: SettingWithCopyWarning: \n",
      "A value is trying to be set on a copy of a slice from a DataFrame.\n",
      "Try using .loc[row_indexer,col_indexer] = value instead\n",
      "\n",
      "See the caveats in the documentation: https://pandas.pydata.org/pandas-docs/stable/user_guide/indexing.html#returning-a-view-versus-a-copy\n",
      "  tech[\"is_remote\"] = (tech[\"vj72.5h2\"] == \"Нет\") | (\n"
     ]
    },
    {
     "data": {
      "text/plain": [
       "is_remote\n",
       "False    1057\n",
       "True        6\n",
       "Name: count, dtype: int64"
      ]
     },
     "execution_count": 7,
     "metadata": {},
     "output_type": "execute_result"
    }
   ],
   "source": [
    "tech[\"is_remote\"] = (tech[\"vj72.5h2\"] == \"Нет\") | (\n",
    "    tech[\"vj72.5h2\"] == \"Нет\"\n",
    ")\n",
    "tech.is_remote.value_counts()"
   ]
  },
  {
   "cell_type": "code",
   "execution_count": 8,
   "metadata": {},
   "outputs": [
    {
     "name": "stderr",
     "output_type": "stream",
     "text": [
      "/var/folders/g7/fsqf0_dj0t91wd65112c268r0000gn/T/ipykernel_45353/1537738312.py:1: SettingWithCopyWarning: \n",
      "A value is trying to be set on a copy of a slice from a DataFrame.\n",
      "Try using .loc[row_indexer,col_indexer] = value instead\n",
      "\n",
      "See the caveats in the documentation: https://pandas.pydata.org/pandas-docs/stable/user_guide/indexing.html#returning-a-view-versus-a-copy\n",
      "  high[\"is_remote\"] = (\n"
     ]
    },
    {
     "data": {
      "text/plain": [
       "is_remote\n",
       "False    799\n",
       "True     583\n",
       "Name: count, dtype: int64"
      ]
     },
     "execution_count": 8,
     "metadata": {},
     "output_type": "execute_result"
    }
   ],
   "source": [
    "high[\"is_remote\"] = (\n",
    "    (high[\"vj72.5h4\"] == \"Нет\")\n",
    "    | (high[\"vj72.5h3\"] == \"Нет\")\n",
    "    | (high[\"vj72.5h2\"] == \"Нет\")\n",
    "    | (high[\"vj72.5h\"] == \"Нет\")\n",
    ")\n",
    "high.is_remote.value_counts()"
   ]
  },
  {
   "cell_type": "code",
   "execution_count": 9,
   "metadata": {},
   "outputs": [
    {
     "data": {
      "text/plain": [
       "(10.05359, 10.05359)"
      ]
     },
     "execution_count": 9,
     "metadata": {},
     "output_type": "execute_result"
    }
   ],
   "source": [
    "high[high.is_remote == True].log_wage.median(), high[high.is_remote == False].log_wage.median()  "
   ]
  },
  {
   "cell_type": "code",
   "execution_count": 10,
   "metadata": {},
   "outputs": [
    {
     "data": {
      "text/plain": [
       "MannwhitneyuResult(statistic=231209.0, pvalue=0.8164593714545441)"
      ]
     },
     "execution_count": 10,
     "metadata": {},
     "output_type": "execute_result"
    }
   ],
   "source": [
    "stats.mannwhitneyu(high[high.is_remote == True].log_wage, high[high.is_remote == False].log_wage)"
   ]
  },
  {
   "cell_type": "code",
   "execution_count": 11,
   "metadata": {},
   "outputs": [
    {
     "data": {
      "text/plain": [
       "<Axes: >"
      ]
     },
     "execution_count": 11,
     "metadata": {},
     "output_type": "execute_result"
    },
    {
     "data": {
      "image/png": "[encoded data removed]",
      "text/plain": [
       "<Figure size 640x480 with 1 Axes>"
      ]
     },
     "metadata": {},
     "output_type": "display_data"
    }
   ],
   "source": [
    "high[high.is_remote == True].log_wage.hist()"
   ]
  },
  {
   "cell_type": "code",
   "execution_count": 12,
   "metadata": {},
   "outputs": [
    {
     "data": {
      "text/plain": [
       "59"
      ]
     },
     "execution_count": 12,
     "metadata": {},
     "output_type": "execute_result"
    }
   ],
   "source": [
    "high[high.is_remote == True].age.max()"
   ]
  },
  {
   "cell_type": "code",
   "execution_count": 13,
   "metadata": {},
   "outputs": [
    {
     "data": {
      "text/plain": [
       "<Axes: >"
      ]
     },
     "execution_count": 13,
     "metadata": {},
     "output_type": "execute_result"
    },
    {
     "data": {
      "image/png": "[encoded data removed]",
      "text/plain": [
       "<Figure size 640x480 with 1 Axes>"
      ]
     },
     "metadata": {},
     "output_type": "display_data"
    }
   ],
   "source": [
    "high['log_wage'].hist()"
   ]
  },
  {
   "cell_type": "code",
   "execution_count": 14,
   "metadata": {},
   "outputs": [
    {
     "data": {
      "text/plain": [
       "ShapiroResult(statistic=0.8312497138977051, pvalue=7.148296372199416e-36)"
      ]
     },
     "execution_count": 14,
     "metadata": {},
     "output_type": "execute_result"
    }
   ],
   "source": [
    "stats.shapiro(high.log_wage)"
   ]
  },
  {
   "cell_type": "code",
   "execution_count": 15,
   "metadata": {},
   "outputs": [],
   "source": [
    "df.to_csv(\"df_extended_v2_remote.csv\")"
   ]
  }
 ],
 "metadata": {
  "kernelspec": {
   "display_name": "Python 3",
   "language": "python",
   "name": "python3"
  },
  "language_info": {
   "codemirror_mode": {
    "name": "ipython",
    "version": 3
   },
   "file_extension": ".py",
   "mimetype": "text/x-python",
   "name": "python",
   "nbconvert_exporter": "python",
   "pygments_lexer": "ipython3",
   "version": "3.11.9"
  }
 },
 "nbformat": 4,
 "nbformat_minor": 2
}
