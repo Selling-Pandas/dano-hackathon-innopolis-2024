{
 "cells": [
  {
   "cell_type": "code",
   "execution_count": 3,
   "metadata": {},
   "outputs": [],
   "source": [
    "import pandas as pd\n",
    "from scipy import stats"
   ]
  },
  {
   "cell_type": "code",
   "execution_count": 4,
   "metadata": {},
   "outputs": [
    {
     "data": {
      "text/html": [
       "<div>\n",
       "<style scoped>\n",
       "    .dataframe tbody tr th:only-of-type {\n",
       "        vertical-align: middle;\n",
       "    }\n",
       "\n",
       "    .dataframe tbody tr th {\n",
       "        vertical-align: top;\n",
       "    }\n",
       "\n",
       "    .dataframe thead th {\n",
       "        text-align: right;\n",
       "    }\n",
       "</style>\n",
       "<table border=\"1\" class=\"dataframe\">\n",
       "  <thead>\n",
       "    <tr style=\"text-align: right;\">\n",
       "      <th></th>\n",
       "      <th>idind</th>\n",
       "      <th>vredid_i</th>\n",
       "      <th>vid_i</th>\n",
       "      <th>vid_h</th>\n",
       "      <th>uid_i</th>\n",
       "      <th>uid_h</th>\n",
       "      <th>tid_i</th>\n",
       "      <th>tid_h</th>\n",
       "      <th>sid_i</th>\n",
       "      <th>sid_h</th>\n",
       "      <th>...</th>\n",
       "      <th>vm98</th>\n",
       "      <th>vm99</th>\n",
       "      <th>vm100</th>\n",
       "      <th>vm101</th>\n",
       "      <th>vm102</th>\n",
       "      <th>vm103</th>\n",
       "      <th>vm104</th>\n",
       "      <th>vm105</th>\n",
       "      <th>vm106</th>\n",
       "      <th>vm107</th>\n",
       "    </tr>\n",
       "  </thead>\n",
       "  <tbody>\n",
       "    <tr>\n",
       "      <th>0</th>\n",
       "      <td>3.0</td>\n",
       "      <td>34201.0</td>\n",
       "      <td>1001201.0</td>\n",
       "      <td>10012.0</td>\n",
       "      <td>1001201.0</td>\n",
       "      <td>10012.0</td>\n",
       "      <td>1001201.0</td>\n",
       "      <td>10012.0</td>\n",
       "      <td>1001201.0</td>\n",
       "      <td>10012.0</td>\n",
       "      <td>...</td>\n",
       "      <td>NaN</td>\n",
       "      <td>NaN</td>\n",
       "      <td>NaN</td>\n",
       "      <td>NaN</td>\n",
       "      <td>NaN</td>\n",
       "      <td>NaN</td>\n",
       "      <td>NaN</td>\n",
       "      <td>NaN</td>\n",
       "      <td>NaN</td>\n",
       "      <td>NaN</td>\n",
       "    </tr>\n",
       "    <tr>\n",
       "      <th>1</th>\n",
       "      <td>7.0</td>\n",
       "      <td>34401.0</td>\n",
       "      <td>1000301.0</td>\n",
       "      <td>10003.0</td>\n",
       "      <td>1000301.0</td>\n",
       "      <td>10003.0</td>\n",
       "      <td>1000301.0</td>\n",
       "      <td>10003.0</td>\n",
       "      <td>1000301.0</td>\n",
       "      <td>10003.0</td>\n",
       "      <td>...</td>\n",
       "      <td>NaN</td>\n",
       "      <td>NaN</td>\n",
       "      <td>NaN</td>\n",
       "      <td>NaN</td>\n",
       "      <td>NaN</td>\n",
       "      <td>NaN</td>\n",
       "      <td>NaN</td>\n",
       "      <td>NaN</td>\n",
       "      <td>NaN</td>\n",
       "      <td>NaN</td>\n",
       "    </tr>\n",
       "    <tr>\n",
       "      <th>2</th>\n",
       "      <td>9.0</td>\n",
       "      <td>34001.0</td>\n",
       "      <td>1000401.0</td>\n",
       "      <td>10004.0</td>\n",
       "      <td>1000401.0</td>\n",
       "      <td>10004.0</td>\n",
       "      <td>1000401.0</td>\n",
       "      <td>10004.0</td>\n",
       "      <td>1000401.0</td>\n",
       "      <td>10004.0</td>\n",
       "      <td>...</td>\n",
       "      <td>NaN</td>\n",
       "      <td>NaN</td>\n",
       "      <td>NaN</td>\n",
       "      <td>NaN</td>\n",
       "      <td>NaN</td>\n",
       "      <td>NaN</td>\n",
       "      <td>NaN</td>\n",
       "      <td>NaN</td>\n",
       "      <td>NaN</td>\n",
       "      <td>NaN</td>\n",
       "    </tr>\n",
       "    <tr>\n",
       "      <th>3</th>\n",
       "      <td>37.0</td>\n",
       "      <td>41902.0</td>\n",
       "      <td>1002402.0</td>\n",
       "      <td>10024.0</td>\n",
       "      <td>1002402.0</td>\n",
       "      <td>10024.0</td>\n",
       "      <td>1002402.0</td>\n",
       "      <td>10024.0</td>\n",
       "      <td>1002402.0</td>\n",
       "      <td>10024.0</td>\n",
       "      <td>...</td>\n",
       "      <td>NaN</td>\n",
       "      <td>NaN</td>\n",
       "      <td>NaN</td>\n",
       "      <td>NaN</td>\n",
       "      <td>NaN</td>\n",
       "      <td>NaN</td>\n",
       "      <td>NaN</td>\n",
       "      <td>NaN</td>\n",
       "      <td>NaN</td>\n",
       "      <td>NaN</td>\n",
       "    </tr>\n",
       "    <tr>\n",
       "      <th>4</th>\n",
       "      <td>60.0</td>\n",
       "      <td>27302.0</td>\n",
       "      <td>1004702.0</td>\n",
       "      <td>10047.0</td>\n",
       "      <td>1004702.0</td>\n",
       "      <td>10047.0</td>\n",
       "      <td>NaN</td>\n",
       "      <td>NaN</td>\n",
       "      <td>1004702.0</td>\n",
       "      <td>10047.0</td>\n",
       "      <td>...</td>\n",
       "      <td>NaN</td>\n",
       "      <td>NaN</td>\n",
       "      <td>NaN</td>\n",
       "      <td>NaN</td>\n",
       "      <td>NaN</td>\n",
       "      <td>NaN</td>\n",
       "      <td>NaN</td>\n",
       "      <td>NaN</td>\n",
       "      <td>NaN</td>\n",
       "      <td>NaN</td>\n",
       "    </tr>\n",
       "  </tbody>\n",
       "</table>\n",
       "<p>5 rows × 827 columns</p>\n",
       "</div>"
      ],
      "text/plain": [
       "   idind  vredid_i      vid_i    vid_h      uid_i    uid_h      tid_i  \\\n",
       "0    3.0   34201.0  1001201.0  10012.0  1001201.0  10012.0  1001201.0   \n",
       "1    7.0   34401.0  1000301.0  10003.0  1000301.0  10003.0  1000301.0   \n",
       "2    9.0   34001.0  1000401.0  10004.0  1000401.0  10004.0  1000401.0   \n",
       "3   37.0   41902.0  1002402.0  10024.0  1002402.0  10024.0  1002402.0   \n",
       "4   60.0   27302.0  1004702.0  10047.0  1004702.0  10047.0        NaN   \n",
       "\n",
       "     tid_h      sid_i    sid_h  ...  vm98  vm99  vm100  vm101  vm102  vm103  \\\n",
       "0  10012.0  1001201.0  10012.0  ...   NaN   NaN    NaN    NaN    NaN    NaN   \n",
       "1  10003.0  1000301.0  10003.0  ...   NaN   NaN    NaN    NaN    NaN    NaN   \n",
       "2  10004.0  1000401.0  10004.0  ...   NaN   NaN    NaN    NaN    NaN    NaN   \n",
       "3  10024.0  1002402.0  10024.0  ...   NaN   NaN    NaN    NaN    NaN    NaN   \n",
       "4      NaN  1004702.0  10047.0  ...   NaN   NaN    NaN    NaN    NaN    NaN   \n",
       "\n",
       "   vm104  vm105  vm106  vm107  \n",
       "0    NaN    NaN    NaN    NaN  \n",
       "1    NaN    NaN    NaN    NaN  \n",
       "2    NaN    NaN    NaN    NaN  \n",
       "3    NaN    NaN    NaN    NaN  \n",
       "4    NaN    NaN    NaN    NaN  \n",
       "\n",
       "[5 rows x 827 columns]"
      ]
     },
     "execution_count": 4,
     "metadata": {},
     "output_type": "execute_result"
    }
   ],
   "source": [
    "df = pd.read_spss('../full_dataset_2017.sav')\n",
    "df.head()"
   ]
  },
  {
   "cell_type": "code",
   "execution_count": 5,
   "metadata": {},
   "outputs": [
    {
     "data": {
      "text/plain": [
       "(12441, 827)"
      ]
     },
     "execution_count": 5,
     "metadata": {},
     "output_type": "execute_result"
    }
   ],
   "source": [
    "df.shape"
   ]
  },
  {
   "cell_type": "code",
   "execution_count": 6,
   "metadata": {},
   "outputs": [
    {
     "data": {
      "text/plain": [
       "vj72.1a\n",
       "Нет           6540\n",
       "Учились       1899\n",
       "НЕТ ОТВЕТА      91\n",
       "Учитесь         10\n",
       "Name: count, dtype: int64"
      ]
     },
     "execution_count": 6,
     "metadata": {},
     "output_type": "execute_result"
    }
   ],
   "source": [
    "df['vj72.1a'].value_counts()"
   ]
  },
  {
   "cell_type": "code",
   "execution_count": 7,
   "metadata": {},
   "outputs": [],
   "source": [
    "df_dano = pd.read_excel('../Data_RLMS.xlsx')"
   ]
  },
  {
   "cell_type": "code",
   "execution_count": 25,
   "metadata": {},
   "outputs": [],
   "source": [
    "dd = df_dano.merge(df[['idind', 'vj72.1a', 'vm80.0', \"vm77\", 'vm81', 'vm114']], on='idind')\n"
   ]
  },
  {
   "cell_type": "code",
   "execution_count": 9,
   "metadata": {},
   "outputs": [
    {
     "data": {
      "text/plain": [
       "vj72.1a\n",
       "Нет           2709\n",
       "Учились        819\n",
       "НЕТ ОТВЕТА      28\n",
       "Учитесь          3\n",
       "Name: count, dtype: int64"
      ]
     },
     "execution_count": 9,
     "metadata": {},
     "output_type": "execute_result"
    }
   ],
   "source": [
    "dd['vj72.1a'].value_counts()"
   ]
  },
  {
   "cell_type": "code",
   "execution_count": 10,
   "metadata": {},
   "outputs": [],
   "source": [
    "dd['taken_courses'] = df['vj72.1a'].isin(['Учились', \"Учитесь\"])"
   ]
  },
  {
   "cell_type": "code",
   "execution_count": 11,
   "metadata": {},
   "outputs": [],
   "source": [
    "taken = dd[dd['taken_courses'] == 1]\n",
    "not_taken =dd[dd['taken_courses'] == 0]"
   ]
  },
  {
   "cell_type": "code",
   "execution_count": 12,
   "metadata": {},
   "outputs": [
    {
     "data": {
      "text/plain": [
       "MannwhitneyuResult(statistic=1089330.0, pvalue=0.8107111080518612)"
      ]
     },
     "execution_count": 12,
     "metadata": {},
     "output_type": "execute_result"
    }
   ],
   "source": [
    "stats.mannwhitneyu(taken['lnwage'], not_taken['lnwage'])"
   ]
  },
  {
   "cell_type": "code",
   "execution_count": 13,
   "metadata": {},
   "outputs": [
    {
     "data": {
      "text/plain": [
       "vm80.0\n",
       "Да, употребляете                2814\n",
       "Нет, никогда не употребляете    1036\n",
       "ЗАТРУДНЯЮСЬ ОТВЕТИТЬ              13\n",
       "ОТКАЗ ОТ ОТВЕТА                    5\n",
       "НЕТ ОТВЕТА                         1\n",
       "Name: count, dtype: int64"
      ]
     },
     "execution_count": 13,
     "metadata": {},
     "output_type": "execute_result"
    }
   ],
   "source": [
    "dd['vm80.0'].value_counts()"
   ]
  },
  {
   "cell_type": "code",
   "execution_count": 14,
   "metadata": {},
   "outputs": [],
   "source": [
    "dd['consumes_alcohol'] = df['vm80.0'].isin(['Да, употребляете'])"
   ]
  },
  {
   "cell_type": "code",
   "execution_count": 15,
   "metadata": {},
   "outputs": [],
   "source": [
    "consumes = dd[dd['consumes_alcohol'] == 1]\n",
    "not_consumes =dd[dd['consumes_alcohol'] == 0]"
   ]
  },
  {
   "cell_type": "code",
   "execution_count": 16,
   "metadata": {},
   "outputs": [
    {
     "data": {
      "text/plain": [
       "MannwhitneyuResult(statistic=1891065.5, pvalue=0.5647337132412217)"
      ]
     },
     "execution_count": 16,
     "metadata": {},
     "output_type": "execute_result"
    }
   ],
   "source": [
    "stats.mannwhitneyu(consumes['lnwage'], not_consumes['lnwage'])"
   ]
  },
  {
   "cell_type": "code",
   "execution_count": 17,
   "metadata": {},
   "outputs": [
    {
     "data": {
      "text/plain": [
       "vm77\n",
       "Нет                     1985\n",
       "Да                       586\n",
       "ОТКАЗ ОТ ОТВЕТА            4\n",
       "НЕТ ОТВЕТА                 1\n",
       "ЗАТРУДНЯЮСЬ ОТВЕТИТЬ       0\n",
       "Name: count, dtype: int64"
      ]
     },
     "execution_count": 17,
     "metadata": {},
     "output_type": "execute_result"
    }
   ],
   "source": [
    "dd['vm77'].value_counts()\n"
   ]
  },
  {
   "cell_type": "code",
   "execution_count": 22,
   "metadata": {},
   "outputs": [],
   "source": [
    "dd['cigarettes'] = df['vm77'].isin(['Да'])"
   ]
  },
  {
   "cell_type": "code",
   "execution_count": 23,
   "metadata": {},
   "outputs": [],
   "source": [
    "cigarettes = dd[dd['cigarettes'] == 1]\n",
    "not_cigarettes =dd[dd['cigarettes'] == 0]"
   ]
  },
  {
   "cell_type": "code",
   "execution_count": 24,
   "metadata": {},
   "outputs": [
    {
     "data": {
      "text/plain": [
       "MannwhitneyuResult(statistic=807381.5, pvalue=0.16985140758765727)"
      ]
     },
     "execution_count": 24,
     "metadata": {},
     "output_type": "execute_result"
    }
   ],
   "source": [
    "stats.mannwhitneyu(cigarettes['lnwage'], not_cigarettes['lnwage'])"
   ]
  },
  {
   "cell_type": "code",
   "execution_count": 27,
   "metadata": {},
   "outputs": [
    {
     "data": {
      "text/plain": [
       "vm114\n",
       "ФИЗКУЛЬТУРОЙ НЕ ЗАНИМАЕТСЯ                                                                     2686\n",
       "Легкие физкультурные упражнения для отдыха менее трех раз в неделю                              422\n",
       "Ежедневные занятия физкультурой менее 30 минут в день                                           323\n",
       "Физкультурные упражнения средней или высокой тяжести менее трех раз в неделю                    211\n",
       "Ежедневные занятия физкультурой по меньшей мере 30 минут в день                                 103\n",
       "Физкультурные упражнения высокой тяжести по крайней мере три раза в неделю 15 минут и более      66\n",
       "НЕТ ОТВЕТА                                                                                       29\n",
       "ЗАТРУДНЯЮСЬ ОТВЕТИТЬ                                                                             25\n",
       "ОТКАЗ ОТ ОТВЕТА                                                                                   4\n",
       "Name: count, dtype: int64"
      ]
     },
     "execution_count": 27,
     "metadata": {},
     "output_type": "execute_result"
    }
   ],
   "source": [
    "dd['vm114'].value_counts()"
   ]
  },
  {
   "cell_type": "code",
   "execution_count": 28,
   "metadata": {},
   "outputs": [
    {
     "data": {
      "text/plain": [
       "vm81\n",
       "2-3 раза в течение последних 30 дней    720\n",
       "Один раз в течение последних 30 дней    469\n",
       "Один раз в неделю                       467\n",
       "2-3 раза в неделю                       275\n",
       "4-6 раз в неделю                         27\n",
       "Каждый день                              17\n",
       "ЗАТРУДНЯЮСЬ ОТВЕТИТЬ                      0\n",
       "ОТКАЗ ОТ ОТВЕТА                           0\n",
       "Name: count, dtype: int64"
      ]
     },
     "execution_count": 28,
     "metadata": {},
     "output_type": "execute_result"
    }
   ],
   "source": [
    "dd['vm81'].value_counts()"
   ]
  }
 ],
 "metadata": {
  "kernelspec": {
   "display_name": "Python 3",
   "language": "python",
   "name": "python3"
  },
  "language_info": {
   "codemirror_mode": {
    "name": "ipython",
    "version": 3
   },
   "file_extension": ".py",
   "mimetype": "text/x-python",
   "name": "python",
   "nbconvert_exporter": "python",
   "pygments_lexer": "ipython3",
   "version": "3.11.9"
  }
 },
 "nbformat": 4,
 "nbformat_minor": 2
}
